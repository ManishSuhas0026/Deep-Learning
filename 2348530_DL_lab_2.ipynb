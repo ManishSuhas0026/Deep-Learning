{
  "nbformat": 4,
  "nbformat_minor": 0,
  "metadata": {
    "colab": {
      "provenance": [],
      "authorship_tag": "ABX9TyNKeuVevdHvIr4LpM5MTM5i",
      "include_colab_link": true
    },
    "kernelspec": {
      "name": "python3",
      "display_name": "Python 3"
    },
    "language_info": {
      "name": "python"
    }
  },
  "cells": [
    {
      "cell_type": "markdown",
      "metadata": {
        "id": "view-in-github",
        "colab_type": "text"
      },
      "source": [
        "<a href=\"https://colab.research.google.com/github/ManishSuhas0026/Deep-Learning/blob/main/2348530_DL_lab_2.ipynb\" target=\"_parent\"><img src=\"https://colab.research.google.com/assets/colab-badge.svg\" alt=\"Open In Colab\"/></a>"
      ]
    },
    {
      "cell_type": "code",
      "execution_count": 1,
      "metadata": {
        "colab": {
          "base_uri": "https://localhost:8080/"
        },
        "id": "jVJ8UrC0jUEr",
        "outputId": "8971e08f-0901-4e5f-f2b1-cdc875a55744"
      },
      "outputs": [
        {
          "output_type": "stream",
          "name": "stdout",
          "text": [
            "Collecting keras-tuner\n",
            "  Downloading keras_tuner-1.4.6-py3-none-any.whl (128 kB)\n",
            "\u001b[?25l     \u001b[90m━━━━━━━━━━━━━━━━━━━━━━━━━━━━━━━━━━━━━━━━\u001b[0m \u001b[32m0.0/128.9 kB\u001b[0m \u001b[31m?\u001b[0m eta \u001b[36m-:--:--\u001b[0m\r\u001b[2K     \u001b[90m━━━━━━━━━━━━━━━━━━━━━━━━━━━━━━━━━━━━━━━━\u001b[0m \u001b[32m128.9/128.9 kB\u001b[0m \u001b[31m4.0 MB/s\u001b[0m eta \u001b[36m0:00:00\u001b[0m\n",
            "\u001b[?25hRequirement already satisfied: keras in /usr/local/lib/python3.10/dist-packages (from keras-tuner) (2.15.0)\n",
            "Requirement already satisfied: packaging in /usr/local/lib/python3.10/dist-packages (from keras-tuner) (23.2)\n",
            "Requirement already satisfied: requests in /usr/local/lib/python3.10/dist-packages (from keras-tuner) (2.31.0)\n",
            "Collecting kt-legacy (from keras-tuner)\n",
            "  Downloading kt_legacy-1.0.5-py3-none-any.whl (9.6 kB)\n",
            "Requirement already satisfied: charset-normalizer<4,>=2 in /usr/local/lib/python3.10/dist-packages (from requests->keras-tuner) (3.3.2)\n",
            "Requirement already satisfied: idna<4,>=2.5 in /usr/local/lib/python3.10/dist-packages (from requests->keras-tuner) (3.6)\n",
            "Requirement already satisfied: urllib3<3,>=1.21.1 in /usr/local/lib/python3.10/dist-packages (from requests->keras-tuner) (2.0.7)\n",
            "Requirement already satisfied: certifi>=2017.4.17 in /usr/local/lib/python3.10/dist-packages (from requests->keras-tuner) (2024.2.2)\n",
            "Installing collected packages: kt-legacy, keras-tuner\n",
            "Successfully installed keras-tuner-1.4.6 kt-legacy-1.0.5\n"
          ]
        }
      ],
      "source": [
        "pip install keras-tuner"
      ]
    },
    {
      "cell_type": "code",
      "source": [
        "from sklearn.model_selection import train_test_split\n",
        "from sklearn.preprocessing import StandardScaler, OneHotEncoder\n",
        "from sklearn.compose import ColumnTransformer\n",
        "from sklearn.pipeline import Pipeline\n",
        "import pandas as pd\n",
        "import tensorflow as tf\n",
        "from tensorflow.keras.models import Sequential\n",
        "from tensorflow.keras.layers import Dense\n",
        "from kerastuner.tuners import RandomSearch\n",
        "from tensorflow.keras.layers import Dense\n",
        "from tensorflow.keras.optimizers import Adam, SGD\n",
        "from sklearn.metrics import accuracy_score, precision_score, recall_score, f1_score, roc_auc_score, confusion_matrix\n",
        "import numpy as np\n",
        "import matplotlib.pyplot as plt\n",
        "from sklearn.metrics import precision_recall_curve\n",
        "from kerastuner.tuners import RandomSearch"
      ],
      "metadata": {
        "id": "agXFNC6wJDNI"
      },
      "execution_count": 3,
      "outputs": []
    },
    {
      "cell_type": "code",
      "source": [
        "df= pd.read_csv('/content/credit_card_fraud.csv')"
      ],
      "metadata": {
        "id": "DOzexXZQJHY3"
      },
      "execution_count": 4,
      "outputs": []
    },
    {
      "cell_type": "code",
      "source": [
        "df.shape"
      ],
      "metadata": {
        "colab": {
          "base_uri": "https://localhost:8080/"
        },
        "id": "GnZiPrTeKska",
        "outputId": "8fd081ae-1e35-4927-adc2-35201f0c713b"
      },
      "execution_count": 5,
      "outputs": [
        {
          "output_type": "execute_result",
          "data": {
            "text/plain": [
              "(8000, 20)"
            ]
          },
          "metadata": {},
          "execution_count": 5
        }
      ]
    },
    {
      "cell_type": "code",
      "source": [
        "df.head(5)"
      ],
      "metadata": {
        "colab": {
          "base_uri": "https://localhost:8080/",
          "height": 590
        },
        "id": "M2zxo3idKy4y",
        "outputId": "d322f118-fe81-4c1b-92bd-5430efc74f4d"
      },
      "execution_count": 6,
      "outputs": [
        {
          "output_type": "execute_result",
          "data": {
            "text/plain": [
              "  Transaction Date and Time  Transaction Amount        Cardholder Name  \\\n",
              "0       2022-09-24 13:54:27              285.88            Shray Soman   \n",
              "1       2020-07-24 11:20:13             1777.32         Lakshit Bakshi   \n",
              "2       2023-03-18 01:05:36             3939.01             Riya Bobal   \n",
              "3       2021-01-07 21:53:04              376.44  Mohanlal Balakrishnan   \n",
              "4       2021-12-16 06:22:24             1687.33            Mannat Rout   \n",
              "\n",
              "                   Card Number (Hashed or Encrypted)  \\\n",
              "0  daca51bffe0fc4eaaa7c430917f94b75fd893712492254...   \n",
              "1  d5366dd9be3a0266c0252baceaa6332210ed4dbd0ef252...   \n",
              "2  4737a6384aa1c3c31f7768b86633d6a8401dd6ab4a8ff1...   \n",
              "3  4721806eed8f2663bb597ff13e79a294de318358fbb54b...   \n",
              "4  9deacc3a9efd6e382826d400620aca5f23ed94327578e5...   \n",
              "\n",
              "                 Merchant Name  Merchant Category Code (MCC)  \\\n",
              "0  Rajagopalan, Ghose and Kant                          3590   \n",
              "1                     Sule PLC                          7277   \n",
              "2                    Badal PLC                          9297   \n",
              "3                  Konda-Sodhi                          5686   \n",
              "4                      Dua Ltd                          2940   \n",
              "\n",
              "  Transaction Location (City or ZIP Code) Transaction Currency  \\\n",
              "0                                 Khammam                  INR   \n",
              "1                             Vasai-Virar                  EUR   \n",
              "2                             Nangloi Jat                  USD   \n",
              "3                              Ramagundam                  USD   \n",
              "4                                   Adoni                  INR   \n",
              "\n",
              "          Card Type Card Expiration Date  \\\n",
              "0        MasterCard                04/29   \n",
              "1  American Express                03/26   \n",
              "2              Visa                11/29   \n",
              "3              Visa                09/25   \n",
              "4        MasterCard                03/31   \n",
              "\n",
              "                      CVV Code (Hashed or Encrypted)  \\\n",
              "0  01299ac65733b5a3d774265fbfe8396b8611e5e3321855...   \n",
              "1  ad8fa913d25b3970c6efa8ca504da8ba670ce2a9cf012d...   \n",
              "2  eb3be230bbd2844b1f5d8f2e4fab9ffba8ab22cfeeb69c...   \n",
              "3  891d46993a36d78392247c642138cede01d9841daab1d9...   \n",
              "4  48a1a756f2d83f1dc57bbf14052b70a6f40d0fceed6662...   \n",
              "\n",
              "   Transaction Response Code                        Transaction ID  \\\n",
              "0                          5  b7f69cbc-a03d-41f8-adca-75920b0242c3   \n",
              "1                         12  ad53cc8e-8412-422e-8cad-4176daac8387   \n",
              "2                          5  f09cecd6-0d74-4551-8089-a31d64e6b9c5   \n",
              "3                          5  b208ae0b-4c4f-428f-b6b9-5360b288b947   \n",
              "4                          5  6b4e4e43-5b73-4906-9973-299a1b2a5e71   \n",
              "\n",
              "   Fraud Flag or Label Previous Transactions Transaction Source  \\\n",
              "0                    1                  None             Online   \n",
              "1                    1                  None             Online   \n",
              "2                    1             3 or more          In-Person   \n",
              "3                    0                     2          In-Person   \n",
              "4                    1                     2             Online   \n",
              "\n",
              "       IP Address Device Information User Account Information  \\\n",
              "0    18.106.240.6             Tablet                      NaN   \n",
              "1  212.48.185.128             Mobile                   jloyal   \n",
              "2   17.190.112.46             Mobile                      NaN   \n",
              "3  153.136.24.104             Tablet                      NaN   \n",
              "4  196.153.28.131            Desktop                      NaN   \n",
              "\n",
              "                                   Transaction Notes  \n",
              "0  Consequatur corporis minima ad vero deserunt n...  \n",
              "1  Dolore repellendus odio deleniti. Eaque quibus...  \n",
              "2  Unde beatae perspiciatis sapiente. Voluptates ...  \n",
              "3  Cupiditate repellendus necessitatibus quo occa...  \n",
              "4  Molestias assumenda consectetur itaque veritat...  "
            ],
            "text/html": [
              "\n",
              "  <div id=\"df-aff09f1d-566c-48da-bd18-292d6a392dab\" class=\"colab-df-container\">\n",
              "    <div>\n",
              "<style scoped>\n",
              "    .dataframe tbody tr th:only-of-type {\n",
              "        vertical-align: middle;\n",
              "    }\n",
              "\n",
              "    .dataframe tbody tr th {\n",
              "        vertical-align: top;\n",
              "    }\n",
              "\n",
              "    .dataframe thead th {\n",
              "        text-align: right;\n",
              "    }\n",
              "</style>\n",
              "<table border=\"1\" class=\"dataframe\">\n",
              "  <thead>\n",
              "    <tr style=\"text-align: right;\">\n",
              "      <th></th>\n",
              "      <th>Transaction Date and Time</th>\n",
              "      <th>Transaction Amount</th>\n",
              "      <th>Cardholder Name</th>\n",
              "      <th>Card Number (Hashed or Encrypted)</th>\n",
              "      <th>Merchant Name</th>\n",
              "      <th>Merchant Category Code (MCC)</th>\n",
              "      <th>Transaction Location (City or ZIP Code)</th>\n",
              "      <th>Transaction Currency</th>\n",
              "      <th>Card Type</th>\n",
              "      <th>Card Expiration Date</th>\n",
              "      <th>CVV Code (Hashed or Encrypted)</th>\n",
              "      <th>Transaction Response Code</th>\n",
              "      <th>Transaction ID</th>\n",
              "      <th>Fraud Flag or Label</th>\n",
              "      <th>Previous Transactions</th>\n",
              "      <th>Transaction Source</th>\n",
              "      <th>IP Address</th>\n",
              "      <th>Device Information</th>\n",
              "      <th>User Account Information</th>\n",
              "      <th>Transaction Notes</th>\n",
              "    </tr>\n",
              "  </thead>\n",
              "  <tbody>\n",
              "    <tr>\n",
              "      <th>0</th>\n",
              "      <td>2022-09-24 13:54:27</td>\n",
              "      <td>285.88</td>\n",
              "      <td>Shray Soman</td>\n",
              "      <td>daca51bffe0fc4eaaa7c430917f94b75fd893712492254...</td>\n",
              "      <td>Rajagopalan, Ghose and Kant</td>\n",
              "      <td>3590</td>\n",
              "      <td>Khammam</td>\n",
              "      <td>INR</td>\n",
              "      <td>MasterCard</td>\n",
              "      <td>04/29</td>\n",
              "      <td>01299ac65733b5a3d774265fbfe8396b8611e5e3321855...</td>\n",
              "      <td>5</td>\n",
              "      <td>b7f69cbc-a03d-41f8-adca-75920b0242c3</td>\n",
              "      <td>1</td>\n",
              "      <td>None</td>\n",
              "      <td>Online</td>\n",
              "      <td>18.106.240.6</td>\n",
              "      <td>Tablet</td>\n",
              "      <td>NaN</td>\n",
              "      <td>Consequatur corporis minima ad vero deserunt n...</td>\n",
              "    </tr>\n",
              "    <tr>\n",
              "      <th>1</th>\n",
              "      <td>2020-07-24 11:20:13</td>\n",
              "      <td>1777.32</td>\n",
              "      <td>Lakshit Bakshi</td>\n",
              "      <td>d5366dd9be3a0266c0252baceaa6332210ed4dbd0ef252...</td>\n",
              "      <td>Sule PLC</td>\n",
              "      <td>7277</td>\n",
              "      <td>Vasai-Virar</td>\n",
              "      <td>EUR</td>\n",
              "      <td>American Express</td>\n",
              "      <td>03/26</td>\n",
              "      <td>ad8fa913d25b3970c6efa8ca504da8ba670ce2a9cf012d...</td>\n",
              "      <td>12</td>\n",
              "      <td>ad53cc8e-8412-422e-8cad-4176daac8387</td>\n",
              "      <td>1</td>\n",
              "      <td>None</td>\n",
              "      <td>Online</td>\n",
              "      <td>212.48.185.128</td>\n",
              "      <td>Mobile</td>\n",
              "      <td>jloyal</td>\n",
              "      <td>Dolore repellendus odio deleniti. Eaque quibus...</td>\n",
              "    </tr>\n",
              "    <tr>\n",
              "      <th>2</th>\n",
              "      <td>2023-03-18 01:05:36</td>\n",
              "      <td>3939.01</td>\n",
              "      <td>Riya Bobal</td>\n",
              "      <td>4737a6384aa1c3c31f7768b86633d6a8401dd6ab4a8ff1...</td>\n",
              "      <td>Badal PLC</td>\n",
              "      <td>9297</td>\n",
              "      <td>Nangloi Jat</td>\n",
              "      <td>USD</td>\n",
              "      <td>Visa</td>\n",
              "      <td>11/29</td>\n",
              "      <td>eb3be230bbd2844b1f5d8f2e4fab9ffba8ab22cfeeb69c...</td>\n",
              "      <td>5</td>\n",
              "      <td>f09cecd6-0d74-4551-8089-a31d64e6b9c5</td>\n",
              "      <td>1</td>\n",
              "      <td>3 or more</td>\n",
              "      <td>In-Person</td>\n",
              "      <td>17.190.112.46</td>\n",
              "      <td>Mobile</td>\n",
              "      <td>NaN</td>\n",
              "      <td>Unde beatae perspiciatis sapiente. Voluptates ...</td>\n",
              "    </tr>\n",
              "    <tr>\n",
              "      <th>3</th>\n",
              "      <td>2021-01-07 21:53:04</td>\n",
              "      <td>376.44</td>\n",
              "      <td>Mohanlal Balakrishnan</td>\n",
              "      <td>4721806eed8f2663bb597ff13e79a294de318358fbb54b...</td>\n",
              "      <td>Konda-Sodhi</td>\n",
              "      <td>5686</td>\n",
              "      <td>Ramagundam</td>\n",
              "      <td>USD</td>\n",
              "      <td>Visa</td>\n",
              "      <td>09/25</td>\n",
              "      <td>891d46993a36d78392247c642138cede01d9841daab1d9...</td>\n",
              "      <td>5</td>\n",
              "      <td>b208ae0b-4c4f-428f-b6b9-5360b288b947</td>\n",
              "      <td>0</td>\n",
              "      <td>2</td>\n",
              "      <td>In-Person</td>\n",
              "      <td>153.136.24.104</td>\n",
              "      <td>Tablet</td>\n",
              "      <td>NaN</td>\n",
              "      <td>Cupiditate repellendus necessitatibus quo occa...</td>\n",
              "    </tr>\n",
              "    <tr>\n",
              "      <th>4</th>\n",
              "      <td>2021-12-16 06:22:24</td>\n",
              "      <td>1687.33</td>\n",
              "      <td>Mannat Rout</td>\n",
              "      <td>9deacc3a9efd6e382826d400620aca5f23ed94327578e5...</td>\n",
              "      <td>Dua Ltd</td>\n",
              "      <td>2940</td>\n",
              "      <td>Adoni</td>\n",
              "      <td>INR</td>\n",
              "      <td>MasterCard</td>\n",
              "      <td>03/31</td>\n",
              "      <td>48a1a756f2d83f1dc57bbf14052b70a6f40d0fceed6662...</td>\n",
              "      <td>5</td>\n",
              "      <td>6b4e4e43-5b73-4906-9973-299a1b2a5e71</td>\n",
              "      <td>1</td>\n",
              "      <td>2</td>\n",
              "      <td>Online</td>\n",
              "      <td>196.153.28.131</td>\n",
              "      <td>Desktop</td>\n",
              "      <td>NaN</td>\n",
              "      <td>Molestias assumenda consectetur itaque veritat...</td>\n",
              "    </tr>\n",
              "  </tbody>\n",
              "</table>\n",
              "</div>\n",
              "    <div class=\"colab-df-buttons\">\n",
              "\n",
              "  <div class=\"colab-df-container\">\n",
              "    <button class=\"colab-df-convert\" onclick=\"convertToInteractive('df-aff09f1d-566c-48da-bd18-292d6a392dab')\"\n",
              "            title=\"Convert this dataframe to an interactive table.\"\n",
              "            style=\"display:none;\">\n",
              "\n",
              "  <svg xmlns=\"http://www.w3.org/2000/svg\" height=\"24px\" viewBox=\"0 -960 960 960\">\n",
              "    <path d=\"M120-120v-720h720v720H120Zm60-500h600v-160H180v160Zm220 220h160v-160H400v160Zm0 220h160v-160H400v160ZM180-400h160v-160H180v160Zm440 0h160v-160H620v160ZM180-180h160v-160H180v160Zm440 0h160v-160H620v160Z\"/>\n",
              "  </svg>\n",
              "    </button>\n",
              "\n",
              "  <style>\n",
              "    .colab-df-container {\n",
              "      display:flex;\n",
              "      gap: 12px;\n",
              "    }\n",
              "\n",
              "    .colab-df-convert {\n",
              "      background-color: #E8F0FE;\n",
              "      border: none;\n",
              "      border-radius: 50%;\n",
              "      cursor: pointer;\n",
              "      display: none;\n",
              "      fill: #1967D2;\n",
              "      height: 32px;\n",
              "      padding: 0 0 0 0;\n",
              "      width: 32px;\n",
              "    }\n",
              "\n",
              "    .colab-df-convert:hover {\n",
              "      background-color: #E2EBFA;\n",
              "      box-shadow: 0px 1px 2px rgba(60, 64, 67, 0.3), 0px 1px 3px 1px rgba(60, 64, 67, 0.15);\n",
              "      fill: #174EA6;\n",
              "    }\n",
              "\n",
              "    .colab-df-buttons div {\n",
              "      margin-bottom: 4px;\n",
              "    }\n",
              "\n",
              "    [theme=dark] .colab-df-convert {\n",
              "      background-color: #3B4455;\n",
              "      fill: #D2E3FC;\n",
              "    }\n",
              "\n",
              "    [theme=dark] .colab-df-convert:hover {\n",
              "      background-color: #434B5C;\n",
              "      box-shadow: 0px 1px 3px 1px rgba(0, 0, 0, 0.15);\n",
              "      filter: drop-shadow(0px 1px 2px rgba(0, 0, 0, 0.3));\n",
              "      fill: #FFFFFF;\n",
              "    }\n",
              "  </style>\n",
              "\n",
              "    <script>\n",
              "      const buttonEl =\n",
              "        document.querySelector('#df-aff09f1d-566c-48da-bd18-292d6a392dab button.colab-df-convert');\n",
              "      buttonEl.style.display =\n",
              "        google.colab.kernel.accessAllowed ? 'block' : 'none';\n",
              "\n",
              "      async function convertToInteractive(key) {\n",
              "        const element = document.querySelector('#df-aff09f1d-566c-48da-bd18-292d6a392dab');\n",
              "        const dataTable =\n",
              "          await google.colab.kernel.invokeFunction('convertToInteractive',\n",
              "                                                    [key], {});\n",
              "        if (!dataTable) return;\n",
              "\n",
              "        const docLinkHtml = 'Like what you see? Visit the ' +\n",
              "          '<a target=\"_blank\" href=https://colab.research.google.com/notebooks/data_table.ipynb>data table notebook</a>'\n",
              "          + ' to learn more about interactive tables.';\n",
              "        element.innerHTML = '';\n",
              "        dataTable['output_type'] = 'display_data';\n",
              "        await google.colab.output.renderOutput(dataTable, element);\n",
              "        const docLink = document.createElement('div');\n",
              "        docLink.innerHTML = docLinkHtml;\n",
              "        element.appendChild(docLink);\n",
              "      }\n",
              "    </script>\n",
              "  </div>\n",
              "\n",
              "\n",
              "<div id=\"df-ecc758a5-8696-495f-8179-26c7f0bfc809\">\n",
              "  <button class=\"colab-df-quickchart\" onclick=\"quickchart('df-ecc758a5-8696-495f-8179-26c7f0bfc809')\"\n",
              "            title=\"Suggest charts\"\n",
              "            style=\"display:none;\">\n",
              "\n",
              "<svg xmlns=\"http://www.w3.org/2000/svg\" height=\"24px\"viewBox=\"0 0 24 24\"\n",
              "     width=\"24px\">\n",
              "    <g>\n",
              "        <path d=\"M19 3H5c-1.1 0-2 .9-2 2v14c0 1.1.9 2 2 2h14c1.1 0 2-.9 2-2V5c0-1.1-.9-2-2-2zM9 17H7v-7h2v7zm4 0h-2V7h2v10zm4 0h-2v-4h2v4z\"/>\n",
              "    </g>\n",
              "</svg>\n",
              "  </button>\n",
              "\n",
              "<style>\n",
              "  .colab-df-quickchart {\n",
              "      --bg-color: #E8F0FE;\n",
              "      --fill-color: #1967D2;\n",
              "      --hover-bg-color: #E2EBFA;\n",
              "      --hover-fill-color: #174EA6;\n",
              "      --disabled-fill-color: #AAA;\n",
              "      --disabled-bg-color: #DDD;\n",
              "  }\n",
              "\n",
              "  [theme=dark] .colab-df-quickchart {\n",
              "      --bg-color: #3B4455;\n",
              "      --fill-color: #D2E3FC;\n",
              "      --hover-bg-color: #434B5C;\n",
              "      --hover-fill-color: #FFFFFF;\n",
              "      --disabled-bg-color: #3B4455;\n",
              "      --disabled-fill-color: #666;\n",
              "  }\n",
              "\n",
              "  .colab-df-quickchart {\n",
              "    background-color: var(--bg-color);\n",
              "    border: none;\n",
              "    border-radius: 50%;\n",
              "    cursor: pointer;\n",
              "    display: none;\n",
              "    fill: var(--fill-color);\n",
              "    height: 32px;\n",
              "    padding: 0;\n",
              "    width: 32px;\n",
              "  }\n",
              "\n",
              "  .colab-df-quickchart:hover {\n",
              "    background-color: var(--hover-bg-color);\n",
              "    box-shadow: 0 1px 2px rgba(60, 64, 67, 0.3), 0 1px 3px 1px rgba(60, 64, 67, 0.15);\n",
              "    fill: var(--button-hover-fill-color);\n",
              "  }\n",
              "\n",
              "  .colab-df-quickchart-complete:disabled,\n",
              "  .colab-df-quickchart-complete:disabled:hover {\n",
              "    background-color: var(--disabled-bg-color);\n",
              "    fill: var(--disabled-fill-color);\n",
              "    box-shadow: none;\n",
              "  }\n",
              "\n",
              "  .colab-df-spinner {\n",
              "    border: 2px solid var(--fill-color);\n",
              "    border-color: transparent;\n",
              "    border-bottom-color: var(--fill-color);\n",
              "    animation:\n",
              "      spin 1s steps(1) infinite;\n",
              "  }\n",
              "\n",
              "  @keyframes spin {\n",
              "    0% {\n",
              "      border-color: transparent;\n",
              "      border-bottom-color: var(--fill-color);\n",
              "      border-left-color: var(--fill-color);\n",
              "    }\n",
              "    20% {\n",
              "      border-color: transparent;\n",
              "      border-left-color: var(--fill-color);\n",
              "      border-top-color: var(--fill-color);\n",
              "    }\n",
              "    30% {\n",
              "      border-color: transparent;\n",
              "      border-left-color: var(--fill-color);\n",
              "      border-top-color: var(--fill-color);\n",
              "      border-right-color: var(--fill-color);\n",
              "    }\n",
              "    40% {\n",
              "      border-color: transparent;\n",
              "      border-right-color: var(--fill-color);\n",
              "      border-top-color: var(--fill-color);\n",
              "    }\n",
              "    60% {\n",
              "      border-color: transparent;\n",
              "      border-right-color: var(--fill-color);\n",
              "    }\n",
              "    80% {\n",
              "      border-color: transparent;\n",
              "      border-right-color: var(--fill-color);\n",
              "      border-bottom-color: var(--fill-color);\n",
              "    }\n",
              "    90% {\n",
              "      border-color: transparent;\n",
              "      border-bottom-color: var(--fill-color);\n",
              "    }\n",
              "  }\n",
              "</style>\n",
              "\n",
              "  <script>\n",
              "    async function quickchart(key) {\n",
              "      const quickchartButtonEl =\n",
              "        document.querySelector('#' + key + ' button');\n",
              "      quickchartButtonEl.disabled = true;  // To prevent multiple clicks.\n",
              "      quickchartButtonEl.classList.add('colab-df-spinner');\n",
              "      try {\n",
              "        const charts = await google.colab.kernel.invokeFunction(\n",
              "            'suggestCharts', [key], {});\n",
              "      } catch (error) {\n",
              "        console.error('Error during call to suggestCharts:', error);\n",
              "      }\n",
              "      quickchartButtonEl.classList.remove('colab-df-spinner');\n",
              "      quickchartButtonEl.classList.add('colab-df-quickchart-complete');\n",
              "    }\n",
              "    (() => {\n",
              "      let quickchartButtonEl =\n",
              "        document.querySelector('#df-ecc758a5-8696-495f-8179-26c7f0bfc809 button');\n",
              "      quickchartButtonEl.style.display =\n",
              "        google.colab.kernel.accessAllowed ? 'block' : 'none';\n",
              "    })();\n",
              "  </script>\n",
              "</div>\n",
              "    </div>\n",
              "  </div>\n"
            ],
            "application/vnd.google.colaboratory.intrinsic+json": {
              "type": "dataframe",
              "variable_name": "df",
              "repr_error": "'str' object has no attribute 'empty'"
            }
          },
          "metadata": {},
          "execution_count": 6
        }
      ]
    },
    {
      "cell_type": "code",
      "source": [
        "df.columns"
      ],
      "metadata": {
        "colab": {
          "base_uri": "https://localhost:8080/"
        },
        "id": "okFCoN8eMMWl",
        "outputId": "6115c25e-f303-4d9b-8e71-5f98050a5794"
      },
      "execution_count": 21,
      "outputs": [
        {
          "output_type": "execute_result",
          "data": {
            "text/plain": [
              "Index(['Transaction Date and Time', 'Transaction Amount', 'Cardholder Name',\n",
              "       'Card Number (Hashed or Encrypted)', 'Merchant Name',\n",
              "       'Merchant Category Code (MCC)',\n",
              "       'Transaction Location (City or ZIP Code)', 'Transaction Currency',\n",
              "       'Card Type', 'Card Expiration Date', 'CVV Code (Hashed or Encrypted)',\n",
              "       'Transaction Response Code', 'Transaction ID', 'Fraud Flag or Label',\n",
              "       'Previous Transactions', 'Transaction Source', 'IP Address',\n",
              "       'Device Information', 'User Account Information', 'Transaction Notes'],\n",
              "      dtype='object')"
            ]
          },
          "metadata": {},
          "execution_count": 21
        }
      ]
    },
    {
      "cell_type": "code",
      "source": [
        "df =df.drop (columns=['Cardholder Name', 'User Account Information', 'Card Number (Hashed or Encrypted)', 'Card Expiration Date', 'CVV Code (Hashed or Encrypted)', 'Transaction ID'])"
      ],
      "metadata": {
        "id": "KAtefwSTK2Jq"
      },
      "execution_count": 24,
      "outputs": []
    },
    {
      "cell_type": "code",
      "source": [
        "df.isnull().sum()"
      ],
      "metadata": {
        "colab": {
          "base_uri": "https://localhost:8080/"
        },
        "id": "AOF4GhlbLL-6",
        "outputId": "431f5695-beed-48be-b5c2-1d3e1dffd1b4"
      },
      "execution_count": 25,
      "outputs": [
        {
          "output_type": "execute_result",
          "data": {
            "text/plain": [
              "Transaction Date and Time                  0\n",
              "Transaction Amount                         0\n",
              "Merchant Name                              0\n",
              "Merchant Category Code (MCC)               0\n",
              "Transaction Location (City or ZIP Code)    0\n",
              "Transaction Currency                       0\n",
              "Card Type                                  0\n",
              "Transaction Response Code                  0\n",
              "Fraud Flag or Label                        0\n",
              "Previous Transactions                      0\n",
              "Transaction Source                         0\n",
              "IP Address                                 0\n",
              "Device Information                         0\n",
              "Transaction Notes                          0\n",
              "dtype: int64"
            ]
          },
          "metadata": {},
          "execution_count": 25
        }
      ]
    },
    {
      "cell_type": "code",
      "source": [
        "df.info()"
      ],
      "metadata": {
        "colab": {
          "base_uri": "https://localhost:8080/"
        },
        "id": "4k8bs9wnLSyk",
        "outputId": "11221140-3a27-450d-adbf-dc36e3f19aa3"
      },
      "execution_count": 11,
      "outputs": [
        {
          "output_type": "stream",
          "name": "stdout",
          "text": [
            "<class 'pandas.core.frame.DataFrame'>\n",
            "RangeIndex: 8000 entries, 0 to 7999\n",
            "Data columns (total 20 columns):\n",
            " #   Column                                   Non-Null Count  Dtype  \n",
            "---  ------                                   --------------  -----  \n",
            " 0   Transaction Date and Time                8000 non-null   object \n",
            " 1   Transaction Amount                       8000 non-null   float64\n",
            " 2   Cardholder Name                          8000 non-null   object \n",
            " 3   Card Number (Hashed or Encrypted)        8000 non-null   object \n",
            " 4   Merchant Name                            8000 non-null   object \n",
            " 5   Merchant Category Code (MCC)             8000 non-null   int64  \n",
            " 6   Transaction Location (City or ZIP Code)  8000 non-null   object \n",
            " 7   Transaction Currency                     8000 non-null   object \n",
            " 8   Card Type                                8000 non-null   object \n",
            " 9   Card Expiration Date                     8000 non-null   object \n",
            " 10  CVV Code (Hashed or Encrypted)           8000 non-null   object \n",
            " 11  Transaction Response Code                8000 non-null   int64  \n",
            " 12  Transaction ID                           8000 non-null   object \n",
            " 13  Fraud Flag or Label                      8000 non-null   int64  \n",
            " 14  Previous Transactions                    8000 non-null   object \n",
            " 15  Transaction Source                       8000 non-null   object \n",
            " 16  IP Address                               8000 non-null   object \n",
            " 17  Device Information                       8000 non-null   object \n",
            " 18  User Account Information                 3990 non-null   object \n",
            " 19  Transaction Notes                        8000 non-null   object \n",
            "dtypes: float64(1), int64(3), object(16)\n",
            "memory usage: 1.2+ MB\n"
          ]
        }
      ]
    },
    {
      "cell_type": "code",
      "source": [
        "X = df.drop(columns=['Fraud Flag or Label'])\n",
        "y = df['Fraud Flag or Label']"
      ],
      "metadata": {
        "id": "XMUJd2ZZLU7l"
      },
      "execution_count": 26,
      "outputs": []
    },
    {
      "cell_type": "code",
      "source": [
        "numerical_cols = X.select_dtypes(include=['int64', 'float64']).columns\n",
        "categorical_cols = X.select_dtypes(include=['object', 'category']).columns"
      ],
      "metadata": {
        "id": "gn0rWar3MkwL"
      },
      "execution_count": 27,
      "outputs": []
    },
    {
      "cell_type": "code",
      "source": [
        "numerical_transformer = StandardScaler()\n",
        "categorical_transformer = OneHotEncoder(handle_unknown='ignore', sparse=False)"
      ],
      "metadata": {
        "id": "Xv8EOQaWMp4t"
      },
      "execution_count": 39,
      "outputs": []
    },
    {
      "cell_type": "code",
      "source": [
        "preprocessor = ColumnTransformer(\n",
        "    transformers=[\n",
        "        ('num', numerical_transformer, numerical_cols),\n",
        "        ('cat', categorical_transformer, categorical_cols)\n",
        "    ])"
      ],
      "metadata": {
        "id": "p_yODQemMsiN"
      },
      "execution_count": 29,
      "outputs": []
    },
    {
      "cell_type": "code",
      "source": [
        "X_train, X_test, y_train, y_test = train_test_split(X, y, test_size=0.2, random_state=42)\n",
        "\n",
        "X_train = preprocessor.fit_transform(X_train)\n",
        "X_test = preprocessor.transform(X_test)"
      ],
      "metadata": {
        "colab": {
          "base_uri": "https://localhost:8080/"
        },
        "id": "LUnyVW-PMyNA",
        "outputId": "13e10d06-dcaa-4a30-990f-152ff99c2b2c"
      },
      "execution_count": 30,
      "outputs": [
        {
          "output_type": "stream",
          "name": "stderr",
          "text": [
            "/usr/local/lib/python3.10/dist-packages/sklearn/preprocessing/_encoders.py:868: FutureWarning: `sparse` was renamed to `sparse_output` in version 1.2 and will be removed in 1.4. `sparse_output` is ignored unless you leave `sparse` to its default value.\n",
            "  warnings.warn(\n"
          ]
        }
      ]
    },
    {
      "cell_type": "code",
      "source": [
        "from kerastuner import HyperModel\n",
        "\n",
        "class MyHyperModel(HyperModel):\n",
        "    def __init__(self, input_shape):\n",
        "        self.input_shape = input_shape\n",
        "\n",
        "    def build(self, hp):\n",
        "        model = Sequential()\n",
        "        model.add(Dense(units=hp.Int('units_layer_1', min_value=32, max_value=512, step=32),\n",
        "                        activation='relu', input_shape=self.input_shape))\n",
        "        model.add(Dense(units=hp.Int('units_layer_2', min_value=32, max_value=512, step=32),\n",
        "                        activation='relu'))\n",
        "        model.add(Dense(1, activation='sigmoid'))\n",
        "\n",
        "        optimizer_choice = hp.Choice('optimizer', ['adam', 'sgd'])\n",
        "\n",
        "        hp_learning_rate = hp.Choice('learning_rate', values=[1e-2, 1e-3, 1e-4])\n",
        "\n",
        "        if optimizer_choice == 'adam':\n",
        "            optimizer = tf.keras.optimizers.Adam(learning_rate=hp_learning_rate)\n",
        "        else:\n",
        "            optimizer = tf.keras.optimizers.SGD(learning_rate=hp_learning_rate)\n",
        "\n",
        "        model.compile(optimizer=optimizer,\n",
        "                      loss='binary_crossentropy',\n",
        "                      metrics=['accuracy'])\n",
        "\n",
        "        return model"
      ],
      "metadata": {
        "id": "UFIyZIRaM0B8"
      },
      "execution_count": 31,
      "outputs": []
    },
    {
      "cell_type": "code",
      "source": [
        "tuner = RandomSearch(\n",
        "    MyHyperModel(input_shape=(X_train.shape[1],)),\n",
        "    objective='val_accuracy',\n",
        "    max_trials=10,\n",
        "    executions_per_trial=1,\n",
        "    directory='my_dir',\n",
        "    project_name='creditcard')\n",
        "\n",
        "tuner.search(X_train, y_train, epochs=10, validation_split=0.2)\n",
        "\n",
        "best_hps = tuner.get_best_hyperparameters(num_trials=1)[0]"
      ],
      "metadata": {
        "colab": {
          "base_uri": "https://localhost:8080/"
        },
        "id": "s205BA-lNCLK",
        "outputId": "1da1645b-0724-4107-fe5e-047dd3b4210c"
      },
      "execution_count": 32,
      "outputs": [
        {
          "output_type": "stream",
          "name": "stdout",
          "text": [
            "Trial 10 Complete [00h 00m 27s]\n",
            "val_accuracy: 0.5132812261581421\n",
            "\n",
            "Best val_accuracy So Far: 0.5210937261581421\n",
            "Total elapsed time: 00h 18m 57s\n"
          ]
        }
      ]
    },
    {
      "cell_type": "code",
      "source": [
        "model = tuner.hypermodel.build(best_hps)\n",
        "history = model.fit(X_train, y_train, epochs=50, validation_split=0.2)\n",
        "y_pred = model.predict(X_test).ravel()\n",
        "y_pred_class = (y_pred > 0.5).astype(\"int32\")\n",
        "\n",
        "accuracy = accuracy_score(y_test, y_pred_class)\n",
        "precision = precision_score(y_test, y_pred_class)\n",
        "recall = recall_score(y_test, y_pred_class)\n",
        "f1 = f1_score(y_test, y_pred_class)\n",
        "roc_auc = roc_auc_score(y_test, y_pred)\n",
        "\n",
        "print(f\"Accuracy: {accuracy:.4f}\")\n",
        "print(f\"Precision: {precision:.4f}\")\n",
        "print(f\"Recall: {recall:.4f}\")\n",
        "print(f\"F1-Score: {f1:.4f}\")\n",
        "print(f\"ROC-AUC: {roc_auc:.4f}\")\n",
        "\n",
        "cm = confusion_matrix(y_test, y_pred_class)\n",
        "print(\"Confusion Matrix:\\n\", cm)\n",
        "\n",
        "precision_vals, recall_vals, thresholds = precision_recall_curve(y_test, y_pred)\n",
        "plt.plot(recall_vals, precision_vals, marker='.', label='Precision-Recall curve')\n",
        "plt.xlabel('Recall')\n",
        "plt.ylabel('Precision')\n",
        "plt.legend()\n",
        "plt.show()"
      ],
      "metadata": {
        "colab": {
          "base_uri": "https://localhost:8080/",
          "height": 1000
        },
        "id": "U8HaKY7yNG0D",
        "outputId": "b580100c-287d-4213-93b1-f07d1ea66388"
      },
      "execution_count": 41,
      "outputs": [
        {
          "output_type": "stream",
          "name": "stdout",
          "text": [
            "Epoch 1/50\n",
            "160/160 [==============================] - 16s 98ms/step - loss: 0.6975 - accuracy: 0.4930 - val_loss: 0.6938 - val_accuracy: 0.4977\n",
            "Epoch 2/50\n",
            "160/160 [==============================] - 13s 84ms/step - loss: 0.5887 - accuracy: 0.6736 - val_loss: 0.7988 - val_accuracy: 0.4852\n",
            "Epoch 3/50\n",
            "160/160 [==============================] - 13s 81ms/step - loss: 0.0320 - accuracy: 0.9896 - val_loss: 1.5277 - val_accuracy: 0.4773\n",
            "Epoch 4/50\n",
            "160/160 [==============================] - 13s 81ms/step - loss: 2.2599e-04 - accuracy: 1.0000 - val_loss: 1.5586 - val_accuracy: 0.4781\n",
            "Epoch 5/50\n",
            "160/160 [==============================] - 13s 79ms/step - loss: 3.1559e-06 - accuracy: 1.0000 - val_loss: 1.5863 - val_accuracy: 0.4773\n",
            "Epoch 6/50\n",
            "160/160 [==============================] - 13s 81ms/step - loss: 2.2519e-06 - accuracy: 1.0000 - val_loss: 1.6065 - val_accuracy: 0.4789\n",
            "Epoch 7/50\n",
            "160/160 [==============================] - 18s 110ms/step - loss: 1.7211e-06 - accuracy: 1.0000 - val_loss: 1.6249 - val_accuracy: 0.4773\n",
            "Epoch 8/50\n",
            "160/160 [==============================] - 13s 80ms/step - loss: 1.3598e-06 - accuracy: 1.0000 - val_loss: 1.6424 - val_accuracy: 0.4758\n",
            "Epoch 9/50\n",
            "160/160 [==============================] - 14s 85ms/step - loss: 1.0885e-06 - accuracy: 1.0000 - val_loss: 1.6594 - val_accuracy: 0.4742\n",
            "Epoch 10/50\n",
            "160/160 [==============================] - 13s 84ms/step - loss: 8.9086e-07 - accuracy: 1.0000 - val_loss: 1.6748 - val_accuracy: 0.4734\n",
            "Epoch 11/50\n",
            "160/160 [==============================] - 13s 82ms/step - loss: 7.3796e-07 - accuracy: 1.0000 - val_loss: 1.6902 - val_accuracy: 0.4734\n",
            "Epoch 12/50\n",
            "160/160 [==============================] - 13s 83ms/step - loss: 6.1908e-07 - accuracy: 1.0000 - val_loss: 1.7041 - val_accuracy: 0.4727\n",
            "Epoch 13/50\n",
            "160/160 [==============================] - 14s 88ms/step - loss: 5.1594e-07 - accuracy: 1.0000 - val_loss: 1.7172 - val_accuracy: 0.4742\n",
            "Epoch 14/50\n",
            "160/160 [==============================] - 14s 84ms/step - loss: 4.3978e-07 - accuracy: 1.0000 - val_loss: 1.7307 - val_accuracy: 0.4734\n",
            "Epoch 15/50\n",
            "160/160 [==============================] - 14s 89ms/step - loss: 3.7753e-07 - accuracy: 1.0000 - val_loss: 1.7428 - val_accuracy: 0.4766\n",
            "Epoch 16/50\n",
            "160/160 [==============================] - 15s 92ms/step - loss: 3.2575e-07 - accuracy: 1.0000 - val_loss: 1.7554 - val_accuracy: 0.4766\n",
            "Epoch 17/50\n",
            "160/160 [==============================] - 14s 86ms/step - loss: 2.8324e-07 - accuracy: 1.0000 - val_loss: 1.7673 - val_accuracy: 0.4766\n",
            "Epoch 18/50\n",
            "160/160 [==============================] - 13s 84ms/step - loss: 2.4780e-07 - accuracy: 1.0000 - val_loss: 1.7785 - val_accuracy: 0.4758\n",
            "Epoch 19/50\n",
            "160/160 [==============================] - 14s 87ms/step - loss: 2.1758e-07 - accuracy: 1.0000 - val_loss: 1.7898 - val_accuracy: 0.4742\n",
            "Epoch 20/50\n",
            "160/160 [==============================] - 14s 86ms/step - loss: 1.9186e-07 - accuracy: 1.0000 - val_loss: 1.8006 - val_accuracy: 0.4758\n",
            "Epoch 21/50\n",
            "160/160 [==============================] - 13s 84ms/step - loss: 1.6932e-07 - accuracy: 1.0000 - val_loss: 1.8112 - val_accuracy: 0.4766\n",
            "Epoch 22/50\n",
            "160/160 [==============================] - 15s 91ms/step - loss: 1.4957e-07 - accuracy: 1.0000 - val_loss: 1.8216 - val_accuracy: 0.4766\n",
            "Epoch 23/50\n",
            "160/160 [==============================] - 14s 87ms/step - loss: 1.3290e-07 - accuracy: 1.0000 - val_loss: 1.8315 - val_accuracy: 0.4758\n",
            "Epoch 24/50\n",
            "160/160 [==============================] - 13s 80ms/step - loss: 1.1840e-07 - accuracy: 1.0000 - val_loss: 1.8418 - val_accuracy: 0.4742\n",
            "Epoch 25/50\n",
            "160/160 [==============================] - 14s 87ms/step - loss: 1.0565e-07 - accuracy: 1.0000 - val_loss: 1.8515 - val_accuracy: 0.4742\n",
            "Epoch 26/50\n",
            "160/160 [==============================] - 14s 87ms/step - loss: 9.4551e-08 - accuracy: 1.0000 - val_loss: 1.8613 - val_accuracy: 0.4734\n",
            "Epoch 27/50\n",
            "160/160 [==============================] - 14s 88ms/step - loss: 8.4813e-08 - accuracy: 1.0000 - val_loss: 1.8706 - val_accuracy: 0.4719\n",
            "Epoch 28/50\n",
            "160/160 [==============================] - 16s 103ms/step - loss: 7.6226e-08 - accuracy: 1.0000 - val_loss: 1.8804 - val_accuracy: 0.4719\n",
            "Epoch 29/50\n",
            "160/160 [==============================] - 14s 85ms/step - loss: 6.8639e-08 - accuracy: 1.0000 - val_loss: 1.8896 - val_accuracy: 0.4711\n",
            "Epoch 30/50\n",
            "160/160 [==============================] - 15s 91ms/step - loss: 6.1924e-08 - accuracy: 1.0000 - val_loss: 1.8989 - val_accuracy: 0.4703\n",
            "Epoch 31/50\n",
            "160/160 [==============================] - 14s 87ms/step - loss: 5.5942e-08 - accuracy: 1.0000 - val_loss: 1.9084 - val_accuracy: 0.4703\n",
            "Epoch 32/50\n",
            "160/160 [==============================] - 15s 93ms/step - loss: 5.0603e-08 - accuracy: 1.0000 - val_loss: 1.9175 - val_accuracy: 0.4688\n",
            "Epoch 33/50\n",
            "160/160 [==============================] - 14s 87ms/step - loss: 4.5860e-08 - accuracy: 1.0000 - val_loss: 1.9265 - val_accuracy: 0.4688\n",
            "Epoch 34/50\n",
            "160/160 [==============================] - 13s 81ms/step - loss: 4.1586e-08 - accuracy: 1.0000 - val_loss: 1.9355 - val_accuracy: 0.4688\n",
            "Epoch 35/50\n",
            "160/160 [==============================] - 14s 89ms/step - loss: 3.7767e-08 - accuracy: 1.0000 - val_loss: 1.9437 - val_accuracy: 0.4695\n",
            "Epoch 36/50\n",
            "160/160 [==============================] - 14s 88ms/step - loss: 3.4355e-08 - accuracy: 1.0000 - val_loss: 1.9527 - val_accuracy: 0.4695\n",
            "Epoch 37/50\n",
            "160/160 [==============================] - 14s 87ms/step - loss: 3.1261e-08 - accuracy: 1.0000 - val_loss: 1.9615 - val_accuracy: 0.4688\n",
            "Epoch 38/50\n",
            "160/160 [==============================] - 15s 93ms/step - loss: 2.8489e-08 - accuracy: 1.0000 - val_loss: 1.9698 - val_accuracy: 0.4688\n",
            "Epoch 39/50\n",
            "160/160 [==============================] - 14s 90ms/step - loss: 2.5984e-08 - accuracy: 1.0000 - val_loss: 1.9784 - val_accuracy: 0.4680\n",
            "Epoch 40/50\n",
            "160/160 [==============================] - 15s 96ms/step - loss: 2.3714e-08 - accuracy: 1.0000 - val_loss: 1.9867 - val_accuracy: 0.4680\n",
            "Epoch 41/50\n",
            "160/160 [==============================] - 15s 93ms/step - loss: 2.1657e-08 - accuracy: 1.0000 - val_loss: 1.9952 - val_accuracy: 0.4680\n",
            "Epoch 42/50\n",
            "160/160 [==============================] - 15s 91ms/step - loss: 1.9783e-08 - accuracy: 1.0000 - val_loss: 2.0034 - val_accuracy: 0.4695\n",
            "Epoch 43/50\n",
            "160/160 [==============================] - 14s 89ms/step - loss: 1.8103e-08 - accuracy: 1.0000 - val_loss: 2.0118 - val_accuracy: 0.4688\n",
            "Epoch 44/50\n",
            "160/160 [==============================] - 16s 102ms/step - loss: 1.6566e-08 - accuracy: 1.0000 - val_loss: 2.0201 - val_accuracy: 0.4688\n",
            "Epoch 45/50\n",
            "160/160 [==============================] - 14s 90ms/step - loss: 1.5175e-08 - accuracy: 1.0000 - val_loss: 2.0279 - val_accuracy: 0.4703\n",
            "Epoch 46/50\n",
            "160/160 [==============================] - 15s 92ms/step - loss: 1.3912e-08 - accuracy: 1.0000 - val_loss: 2.0362 - val_accuracy: 0.4703\n",
            "Epoch 47/50\n",
            "160/160 [==============================] - 15s 91ms/step - loss: 1.2759e-08 - accuracy: 1.0000 - val_loss: 2.0441 - val_accuracy: 0.4703\n",
            "Epoch 48/50\n",
            "160/160 [==============================] - 14s 88ms/step - loss: 1.1705e-08 - accuracy: 1.0000 - val_loss: 2.0519 - val_accuracy: 0.4703\n",
            "Epoch 49/50\n",
            "160/160 [==============================] - 13s 84ms/step - loss: 1.0746e-08 - accuracy: 1.0000 - val_loss: 2.0602 - val_accuracy: 0.4703\n",
            "Epoch 50/50\n",
            "160/160 [==============================] - 20s 123ms/step - loss: 9.8766e-09 - accuracy: 1.0000 - val_loss: 2.0677 - val_accuracy: 0.4703\n",
            "50/50 [==============================] - 1s 15ms/step\n",
            "Accuracy: 0.5025\n",
            "Precision: 0.5071\n",
            "Recall: 0.4845\n",
            "F1-Score: 0.4956\n",
            "ROC-AUC: 0.5066\n",
            "Confusion Matrix:\n",
            " [[413 380]\n",
            " [416 391]]\n"
          ]
        },
        {
          "output_type": "display_data",
          "data": {
            "text/plain": [
              "<Figure size 640x480 with 1 Axes>"
            ],
            "image/png": "[encoded data removed]"
          },
          "metadata": {}
        }
      ]
    }
  ]
}